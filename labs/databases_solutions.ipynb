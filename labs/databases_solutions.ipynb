{
 "cells": [
  {
   "cell_type": "markdown",
   "metadata": {},
   "source": [
    "# Data Science Part Time Course\n",
    "\n",
    "## Week 5 - Lesson 2 - Lab 2: Databases with Python\n",
    "\n",
    "In this Lab the goal is connect to a database (created form a local file), read the data into Python and interact with it."
   ]
  },
  {
   "cell_type": "markdown",
   "metadata": {},
   "source": [
    "## 1. Data import\n",
    "\n",
    "Connect to the file 'assets/datasets/enron.db' using the sqlite3 python package\n",
    "\n",
    "Take a look at the database and query the master table. How many Tables are there in the db?\n",
    "\n",
    "> Answer:\n",
    "There are 3 tables:\n",
    "- MessageBase\n",
    "- RecipientBase\n",
    "- EmployeeBase"
   ]
  },
  {
   "cell_type": "code",
   "execution_count": 1,
   "metadata": {},
   "outputs": [
    {
     "data": {
      "text/plain": [
       "[('MessageBase',), ('RecipientBase',), ('EmployeeBase',)]"
      ]
     },
     "execution_count": 1,
     "metadata": {},
     "output_type": "execute_result"
    }
   ],
   "source": [
    "import sqlite3\n",
    "conn = sqlite3.connect('enron.db') \n",
    "c = conn.cursor()\n",
    "c.execute(\"SELECT name FROM sqlite_master WHERE type='table';\").fetchall()"
   ]
  },
  {
   "cell_type": "markdown",
   "metadata": {},
   "source": [
    "Query the `sqlite_master` table to retrieve the **schema** of the `EmployeeBase` table.\n",
    "\n",
    "1. What fields are there?\n",
    "1. What's the type of each of them?"
   ]
  },
  {
   "cell_type": "code",
   "execution_count": 2,
   "metadata": {},
   "outputs": [
    {
     "name": "stdout",
     "output_type": "stream",
     "text": [
      "CREATE TABLE MessageBase (\n",
      "    mid INTEGER,\n",
      "    filename TEXT,\n",
      "    unix_time INTEGER,\n",
      "    subject TEXT,\n",
      "    from_eid INTEGER,\n",
      "    \n",
      "    PRIMARY KEY(mid ASC),\n",
      "    FOREIGN KEY(from_eid) REFERENCES Employee(eid)\n",
      ")\n",
      "CREATE TABLE RecipientBase (\n",
      "    mid INTEGER,\n",
      "    rno INTEGER,\n",
      "    to_eid INTEGER,\n",
      "    \n",
      "    PRIMARY KEY(mid ASC, rno ASC)\n",
      "    FOREIGN KEY(mid) REFERENCES Message(mid)\n",
      "    FOREIGN KEY(to_eid) REFERENCES Employee(eid)\n",
      ")\n",
      "CREATE TABLE EmployeeBase (\n",
      "                  [eid] INTEGER,\n",
      "  [name] TEXT,\n",
      "  [department] TEXT,\n",
      "  [longdepartment] TEXT,\n",
      "  [title] TEXT,\n",
      "  [gender] TEXT,\n",
      "  [seniority] TEXT\n",
      "                  \n",
      "                  )\n"
     ]
    }
   ],
   "source": [
    "fields = c.execute(\"SELECT sql from sqlite_master WHERE type='table' and name='MessageBase';\").fetchall()\n",
    "print (''.join(fields[0]))\n",
    "\n",
    "fields = c.execute(\"SELECT sql from sqlite_master WHERE type='table' and name='RecipientBase';\").fetchall()\n",
    "print (''.join(fields[0]))\n",
    "\n",
    "fields = c.execute(\"SELECT sql from sqlite_master WHERE type='table' and name='EmployeeBase';\").fetchall()\n",
    "print (''.join(fields[0]))"
   ]
  },
  {
   "cell_type": "markdown",
   "metadata": {},
   "source": [
    "1. Print the first 5 rows of EmployeeBase table\n",
    "1. Print the first 5 rows of MessageBase table\n",
    "1. Print the first 5 rows of RecipientBase table\n",
    "\n",
    "**Hint**  use `SELECT` and `LIMIT`."
   ]
  },
  {
   "cell_type": "code",
   "execution_count": 3,
   "metadata": {},
   "outputs": [
    {
     "name": "stdout",
     "output_type": "stream",
     "text": [
      "(1, 'John Arnold', 'Forestry', 'ENA Gas Financial', 'VP Trading', 'Male', 'Senior')\n",
      "(2, 'Harry Arora', 'Forestry', 'ENA East Power', 'VP Trading', 'Male', 'Senior')\n",
      "(3, 'Robert Badeer', 'Forestry', 'ENA West Power', 'Mgr Trading', 'Male', 'Junior')\n",
      "(4, 'Susan Bailey', 'Legal', 'ENA Legal', 'Specialist Legal', 'Female', 'Junior')\n",
      "(5, 'Eric Bass', 'Forestry', 'ENA Gas Texas', 'Trader', 'Male', 'Junior')\n"
     ]
    }
   ],
   "source": [
    "results = c.execute(\"SELECT * FROM EmployeeBase LIMIT 5;\").fetchall()\n",
    "for row in results:\n",
    "    print (row)"
   ]
  },
  {
   "cell_type": "code",
   "execution_count": 4,
   "metadata": {},
   "outputs": [
    {
     "name": "stdout",
     "output_type": "stream",
     "text": [
      "(1, 'taylor-m/sent/11', 910930020, 'Cd$ CME letter', 138)\n",
      "(2, 'taylor-m/sent/17', 911459940, 'Indemnification', 138)\n",
      "(3, 'taylor-m/sent/18', 911463840, 'Re: Indemnification', 138)\n",
      "(4, 'taylor-m/sent/23', 911874180, 'Re: Coral Energy, L.P.', 138)\n",
      "(5, 'taylor-m/sent/27', 912396120, 'Bankruptcy Code revisions', 138)\n"
     ]
    }
   ],
   "source": [
    "results = c.execute(\"SELECT * FROM MessageBase LIMIT 5;\").fetchall()\n",
    "for row in results:\n",
    "    print (row)"
   ]
  },
  {
   "cell_type": "code",
   "execution_count": 5,
   "metadata": {
    "scrolled": true
   },
   "outputs": [
    {
     "name": "stdout",
     "output_type": "stream",
     "text": [
      "(1, 1, 59)\n",
      "(2, 1, 15)\n",
      "(3, 1, 15)\n",
      "(4, 1, 109)\n",
      "(4, 2, 49)\n",
      "(4, 3, 120)\n",
      "(4, 4, 59)\n",
      "(5, 1, 45)\n",
      "(5, 2, 53)\n",
      "(6, 1, 113)\n"
     ]
    }
   ],
   "source": [
    "results = c.execute(\"SELECT * FROM RecipientBase LIMIT 10;\").fetchall()\n",
    "for row in results:\n",
    "    print (row)\n",
    "    \n",
    "# The first field is message id, the second is recipient number, and the third is the id of the recipient.\n",
    "# mid, rno, to_eid"
   ]
  },
  {
   "cell_type": "markdown",
   "metadata": {},
   "source": [
    "Now try other SQL statements on the local database, such as SELECT .... FROM ... WHERE ....\n",
    "\n",
    "For example, print the records of EmployeeBase where the Gender is male "
   ]
  },
  {
   "cell_type": "code",
   "execution_count": null,
   "metadata": {
    "collapsed": true
   },
   "outputs": [],
   "source": []
  },
  {
   "cell_type": "markdown",
   "metadata": {},
   "source": [
    "#### Import each of the 3 tables to a Pandas Dataframes"
   ]
  },
  {
   "cell_type": "code",
   "execution_count": 6,
   "metadata": {},
   "outputs": [],
   "source": [
    "import pandas as pd\n",
    "employees = pd.read_sql(\"SELECT * FROM EmployeeBase;\", conn)\n",
    "recipients = pd.read_sql(\"SELECT * FROM RecipientBase;\", conn)\n",
    "messages = pd.read_sql(\"SELECT * FROM MessageBase;\", conn)"
   ]
  },
  {
   "cell_type": "code",
   "execution_count": 7,
   "metadata": {},
   "outputs": [
    {
     "data": {
      "text/html": [
       "<div>\n",
       "<style scoped>\n",
       "    .dataframe tbody tr th:only-of-type {\n",
       "        vertical-align: middle;\n",
       "    }\n",
       "\n",
       "    .dataframe tbody tr th {\n",
       "        vertical-align: top;\n",
       "    }\n",
       "\n",
       "    .dataframe thead th {\n",
       "        text-align: right;\n",
       "    }\n",
       "</style>\n",
       "<table border=\"1\" class=\"dataframe\">\n",
       "  <thead>\n",
       "    <tr style=\"text-align: right;\">\n",
       "      <th></th>\n",
       "      <th>mid</th>\n",
       "      <th>rno</th>\n",
       "      <th>to_eid</th>\n",
       "    </tr>\n",
       "  </thead>\n",
       "  <tbody>\n",
       "    <tr>\n",
       "      <th>0</th>\n",
       "      <td>1</td>\n",
       "      <td>1</td>\n",
       "      <td>59</td>\n",
       "    </tr>\n",
       "    <tr>\n",
       "      <th>1</th>\n",
       "      <td>2</td>\n",
       "      <td>1</td>\n",
       "      <td>15</td>\n",
       "    </tr>\n",
       "    <tr>\n",
       "      <th>2</th>\n",
       "      <td>3</td>\n",
       "      <td>1</td>\n",
       "      <td>15</td>\n",
       "    </tr>\n",
       "    <tr>\n",
       "      <th>3</th>\n",
       "      <td>4</td>\n",
       "      <td>1</td>\n",
       "      <td>109</td>\n",
       "    </tr>\n",
       "    <tr>\n",
       "      <th>4</th>\n",
       "      <td>4</td>\n",
       "      <td>2</td>\n",
       "      <td>49</td>\n",
       "    </tr>\n",
       "    <tr>\n",
       "      <th>5</th>\n",
       "      <td>4</td>\n",
       "      <td>3</td>\n",
       "      <td>120</td>\n",
       "    </tr>\n",
       "    <tr>\n",
       "      <th>6</th>\n",
       "      <td>4</td>\n",
       "      <td>4</td>\n",
       "      <td>59</td>\n",
       "    </tr>\n",
       "    <tr>\n",
       "      <th>7</th>\n",
       "      <td>5</td>\n",
       "      <td>1</td>\n",
       "      <td>45</td>\n",
       "    </tr>\n",
       "    <tr>\n",
       "      <th>8</th>\n",
       "      <td>5</td>\n",
       "      <td>2</td>\n",
       "      <td>53</td>\n",
       "    </tr>\n",
       "    <tr>\n",
       "      <th>9</th>\n",
       "      <td>6</td>\n",
       "      <td>1</td>\n",
       "      <td>113</td>\n",
       "    </tr>\n",
       "  </tbody>\n",
       "</table>\n",
       "</div>"
      ],
      "text/plain": [
       "   mid  rno  to_eid\n",
       "0    1    1      59\n",
       "1    2    1      15\n",
       "2    3    1      15\n",
       "3    4    1     109\n",
       "4    4    2      49\n",
       "5    4    3     120\n",
       "6    4    4      59\n",
       "7    5    1      45\n",
       "8    5    2      53\n",
       "9    6    1     113"
      ]
     },
     "execution_count": 7,
     "metadata": {},
     "output_type": "execute_result"
    }
   ],
   "source": [
    "recipients.head(10)"
   ]
  },
  {
   "cell_type": "markdown",
   "metadata": {},
   "source": [
    "## 2. Data Exploration\n",
    "\n",
    "Use the 3 dataframes to answer the following questions:\n",
    "\n",
    "1. How many employees are there in the company?\n",
    "- How many messages are there in the database?\n",
    "- Some messages are sent to more than one recipient. Group the messages by message_id and count the number of recipients. Then look at the distribution of recipient numbers.\n",
    "    - How many messages have only one recipient?\n",
    "    - How many messages have >= 5 recipients?\n",
    "    - What's the highest number of recipients?\n",
    "    - Who sent the message with the highest number of recipients?\n",
    "- Plot the distribution of recipient numbers"
   ]
  },
  {
   "cell_type": "code",
   "execution_count": 8,
   "metadata": {},
   "outputs": [
    {
     "data": {
      "text/plain": [
       "156"
      ]
     },
     "execution_count": 8,
     "metadata": {},
     "output_type": "execute_result"
    }
   ],
   "source": [
    "len(employees)"
   ]
  },
  {
   "cell_type": "code",
   "execution_count": 9,
   "metadata": {},
   "outputs": [
    {
     "data": {
      "text/plain": [
       "21635"
      ]
     },
     "execution_count": 9,
     "metadata": {},
     "output_type": "execute_result"
    }
   ],
   "source": [
    "len(messages)"
   ]
  },
  {
   "cell_type": "code",
   "execution_count": 10,
   "metadata": {},
   "outputs": [
    {
     "data": {
      "text/plain": [
       "<matplotlib.axes._subplots.AxesSubplot at 0x10fa2a940>"
      ]
     },
     "execution_count": 10,
     "metadata": {},
     "output_type": "execute_result"
    },
    {
     "data": {
      "image/png": "[encoded data removed]",
      "text/plain": [
       "<Figure size 432x288 with 1 Axes>"
      ]
     },
     "metadata": {},
     "output_type": "display_data"
    }
   ],
   "source": [
    "# Plotting histogram with Pandas Hist\n",
    "%matplotlib inline\n",
    "recipients.groupby('mid')['to_eid'].agg(['count'])['count'].hist(bins=50)"
   ]
  },
  {
   "cell_type": "code",
   "execution_count": 11,
   "metadata": {},
   "outputs": [],
   "source": [
    "from collections import Counter"
   ]
  },
  {
   "cell_type": "code",
   "execution_count": 12,
   "metadata": {},
   "outputs": [
    {
     "data": {
      "text/plain": [
       "Counter({1: 14985,\n",
       "         4: 873,\n",
       "         2: 2962,\n",
       "         3: 1435,\n",
       "         13: 57,\n",
       "         5: 711,\n",
       "         6: 180,\n",
       "         10: 29,\n",
       "         9: 24,\n",
       "         7: 176,\n",
       "         12: 33,\n",
       "         8: 61,\n",
       "         15: 28,\n",
       "         11: 47,\n",
       "         17: 2,\n",
       "         22: 1,\n",
       "         14: 11,\n",
       "         16: 9,\n",
       "         57: 2,\n",
       "         55: 1,\n",
       "         52: 1,\n",
       "         21: 2,\n",
       "         49: 1,\n",
       "         24: 1,\n",
       "         18: 1,\n",
       "         19: 1,\n",
       "         20: 1})"
      ]
     },
     "execution_count": 12,
     "metadata": {},
     "output_type": "execute_result"
    }
   ],
   "source": [
    "# using the below summary you can answer Question 3\n",
    "counts = Counter(recipients.groupby('mid')['to_eid'].count())\n",
    "counts"
   ]
  },
  {
   "cell_type": "code",
   "execution_count": 13,
   "metadata": {},
   "outputs": [
    {
     "data": {
      "text/html": [
       "\n",
       "    <div class=\"bk-root\">\n",
       "        <a href=\"https://bokeh.pydata.org\" target=\"_blank\" class=\"bk-logo bk-logo-small bk-logo-notebook\"></a>\n",
       "        <span id=\"3880cf61-2f5d-45b8-b387-3d7a3129335d\">Loading BokehJS ...</span>\n",
       "    </div>"
      ]
     },
     "metadata": {},
     "output_type": "display_data"
    },
    {
     "data": {
      "application/javascript": [
       "\n",
       "(function(root) {\n",
       "  function now() {\n",
       "    return new Date();\n",
       "  }\n",
       "\n",
       "  var force = true;\n",
       "\n",
       "  if (typeof (root._bokeh_onload_callbacks) === \"undefined\" || force === true) {\n",
       "    root._bokeh_onload_callbacks = [];\n",
       "    root._bokeh_is_loading = undefined;\n",
       "  }\n",
       "\n",
       "  var JS_MIME_TYPE = 'application/javascript';\n",
       "  var HTML_MIME_TYPE = 'text/html';\n",
       "  var EXEC_MIME_TYPE = 'application/vnd.bokehjs_exec.v0+json';\n",
       "  var CLASS_NAME = 'output_bokeh rendered_html';\n",
       "\n",
       "  /**\n",
       "   * Render data to the DOM node\n",
       "   */\n",
       "  function render(props, node) {\n",
       "    var script = document.createElement(\"script\");\n",
       "    node.appendChild(script);\n",
       "  }\n",
       "\n",
       "  /**\n",
       "   * Handle when an output is cleared or removed\n",
       "   */\n",
       "  function handleClearOutput(event, handle) {\n",
       "    var cell = handle.cell;\n",
       "\n",
       "    var id = cell.output_area._bokeh_element_id;\n",
       "    var server_id = cell.output_area._bokeh_server_id;\n",
       "    // Clean up Bokeh references\n",
       "    if (id !== undefined) {\n",
       "      Bokeh.index[id].model.document.clear();\n",
       "      delete Bokeh.index[id];\n",
       "    }\n",
       "\n",
       "    if (server_id !== undefined) {\n",
       "      // Clean up Bokeh references\n",
       "      var cmd = \"from bokeh.io.state import curstate; print(curstate().uuid_to_server['\" + server_id + \"'].get_sessions()[0].document.roots[0]._id)\";\n",
       "      cell.notebook.kernel.execute(cmd, {\n",
       "        iopub: {\n",
       "          output: function(msg) {\n",
       "            var element_id = msg.content.text.trim();\n",
       "            Bokeh.index[element_id].model.document.clear();\n",
       "            delete Bokeh.index[element_id];\n",
       "          }\n",
       "        }\n",
       "      });\n",
       "      // Destroy server and session\n",
       "      var cmd = \"import bokeh.io.notebook as ion; ion.destroy_server('\" + server_id + \"')\";\n",
       "      cell.notebook.kernel.execute(cmd);\n",
       "    }\n",
       "  }\n",
       "\n",
       "  /**\n",
       "   * Handle when a new output is added\n",
       "   */\n",
       "  function handleAddOutput(event, handle) {\n",
       "    var output_area = handle.output_area;\n",
       "    var output = handle.output;\n",
       "\n",
       "    // limit handleAddOutput to display_data with EXEC_MIME_TYPE content only\n",
       "    if ((output.output_type != \"display_data\") || (!output.data.hasOwnProperty(EXEC_MIME_TYPE))) {\n",
       "      return\n",
       "    }\n",
       "\n",
       "    var toinsert = output_area.element.find(\".\" + CLASS_NAME.split(' ')[0]);\n",
       "\n",
       "    if (output.metadata[EXEC_MIME_TYPE][\"id\"] !== undefined) {\n",
       "      toinsert[toinsert.length - 1].firstChild.textContent = output.data[JS_MIME_TYPE];\n",
       "      // store reference to embed id on output_area\n",
       "      output_area._bokeh_element_id = output.metadata[EXEC_MIME_TYPE][\"id\"];\n",
       "    }\n",
       "    if (output.metadata[EXEC_MIME_TYPE][\"server_id\"] !== undefined) {\n",
       "      var bk_div = document.createElement(\"div\");\n",
       "      bk_div.innerHTML = output.data[HTML_MIME_TYPE];\n",
       "      var script_attrs = bk_div.children[0].attributes;\n",
       "      for (var i = 0; i < script_attrs.length; i++) {\n",
       "        toinsert[toinsert.length - 1].firstChild.setAttribute(script_attrs[i].name, script_attrs[i].value);\n",
       "      }\n",
       "      // store reference to server id on output_area\n",
       "      output_area._bokeh_server_id = output.metadata[EXEC_MIME_TYPE][\"server_id\"];\n",
       "    }\n",
       "  }\n",
       "\n",
       "  function register_renderer(events, OutputArea) {\n",
       "\n",
       "    function append_mime(data, metadata, element) {\n",
       "      // create a DOM node to render to\n",
       "      var toinsert = this.create_output_subarea(\n",
       "        metadata,\n",
       "        CLASS_NAME,\n",
       "        EXEC_MIME_TYPE\n",
       "      );\n",
       "      this.keyboard_manager.register_events(toinsert);\n",
       "      // Render to node\n",
       "      var props = {data: data, metadata: metadata[EXEC_MIME_TYPE]};\n",
       "      render(props, toinsert[toinsert.length - 1]);\n",
       "      element.append(toinsert);\n",
       "      return toinsert\n",
       "    }\n",
       "\n",
       "    /* Handle when an output is cleared or removed */\n",
       "    events.on('clear_output.CodeCell', handleClearOutput);\n",
       "    events.on('delete.Cell', handleClearOutput);\n",
       "\n",
       "    /* Handle when a new output is added */\n",
       "    events.on('output_added.OutputArea', handleAddOutput);\n",
       "\n",
       "    /**\n",
       "     * Register the mime type and append_mime function with output_area\n",
       "     */\n",
       "    OutputArea.prototype.register_mime_type(EXEC_MIME_TYPE, append_mime, {\n",
       "      /* Is output safe? */\n",
       "      safe: true,\n",
       "      /* Index of renderer in `output_area.display_order` */\n",
       "      index: 0\n",
       "    });\n",
       "  }\n",
       "\n",
       "  // register the mime type if in Jupyter Notebook environment and previously unregistered\n",
       "  if (root.Jupyter !== undefined) {\n",
       "    var events = require('base/js/events');\n",
       "    var OutputArea = require('notebook/js/outputarea').OutputArea;\n",
       "\n",
       "    if (OutputArea.prototype.mime_types().indexOf(EXEC_MIME_TYPE) == -1) {\n",
       "      register_renderer(events, OutputArea);\n",
       "    }\n",
       "  }\n",
       "\n",
       "  \n",
       "  if (typeof (root._bokeh_timeout) === \"undefined\" || force === true) {\n",
       "    root._bokeh_timeout = Date.now() + 5000;\n",
       "    root._bokeh_failed_load = false;\n",
       "  }\n",
       "\n",
       "  var NB_LOAD_WARNING = {'data': {'text/html':\n",
       "     \"<div style='background-color: #fdd'>\\n\"+\n",
       "     \"<p>\\n\"+\n",
       "     \"BokehJS does not appear to have successfully loaded. If loading BokehJS from CDN, this \\n\"+\n",
       "     \"may be due to a slow or bad network connection. Possible fixes:\\n\"+\n",
       "     \"</p>\\n\"+\n",
       "     \"<ul>\\n\"+\n",
       "     \"<li>re-rerun `output_notebook()` to attempt to load from CDN again, or</li>\\n\"+\n",
       "     \"<li>use INLINE resources instead, as so:</li>\\n\"+\n",
       "     \"</ul>\\n\"+\n",
       "     \"<code>\\n\"+\n",
       "     \"from bokeh.resources import INLINE\\n\"+\n",
       "     \"output_notebook(resources=INLINE)\\n\"+\n",
       "     \"</code>\\n\"+\n",
       "     \"</div>\"}};\n",
       "\n",
       "  function display_loaded() {\n",
       "    var el = document.getElementById(\"3880cf61-2f5d-45b8-b387-3d7a3129335d\");\n",
       "    if (el != null) {\n",
       "      el.textContent = \"BokehJS is loading...\";\n",
       "    }\n",
       "    if (root.Bokeh !== undefined) {\n",
       "      if (el != null) {\n",
       "        el.textContent = \"BokehJS \" + root.Bokeh.version + \" successfully loaded.\";\n",
       "      }\n",
       "    } else if (Date.now() < root._bokeh_timeout) {\n",
       "      setTimeout(display_loaded, 100)\n",
       "    }\n",
       "  }\n",
       "\n",
       "\n",
       "  function run_callbacks() {\n",
       "    try {\n",
       "      root._bokeh_onload_callbacks.forEach(function(callback) { callback() });\n",
       "    }\n",
       "    finally {\n",
       "      delete root._bokeh_onload_callbacks\n",
       "    }\n",
       "    console.info(\"Bokeh: all callbacks have finished\");\n",
       "  }\n",
       "\n",
       "  function load_libs(js_urls, callback) {\n",
       "    root._bokeh_onload_callbacks.push(callback);\n",
       "    if (root._bokeh_is_loading > 0) {\n",
       "      console.log(\"Bokeh: BokehJS is being loaded, scheduling callback at\", now());\n",
       "      return null;\n",
       "    }\n",
       "    if (js_urls == null || js_urls.length === 0) {\n",
       "      run_callbacks();\n",
       "      return null;\n",
       "    }\n",
       "    console.log(\"Bokeh: BokehJS not loaded, scheduling load and callback at\", now());\n",
       "    root._bokeh_is_loading = js_urls.length;\n",
       "    for (var i = 0; i < js_urls.length; i++) {\n",
       "      var url = js_urls[i];\n",
       "      var s = document.createElement('script');\n",
       "      s.src = url;\n",
       "      s.async = false;\n",
       "      s.onreadystatechange = s.onload = function() {\n",
       "        root._bokeh_is_loading--;\n",
       "        if (root._bokeh_is_loading === 0) {\n",
       "          console.log(\"Bokeh: all BokehJS libraries loaded\");\n",
       "          run_callbacks()\n",
       "        }\n",
       "      };\n",
       "      s.onerror = function() {\n",
       "        console.warn(\"failed to load library \" + url);\n",
       "      };\n",
       "      console.log(\"Bokeh: injecting script tag for BokehJS library: \", url);\n",
       "      document.getElementsByTagName(\"head\")[0].appendChild(s);\n",
       "    }\n",
       "  };var element = document.getElementById(\"3880cf61-2f5d-45b8-b387-3d7a3129335d\");\n",
       "  if (element == null) {\n",
       "    console.log(\"Bokeh: ERROR: autoload.js configured with elementid '3880cf61-2f5d-45b8-b387-3d7a3129335d' but no matching script tag was found. \")\n",
       "    return false;\n",
       "  }\n",
       "\n",
       "  var js_urls = [\"https://cdn.pydata.org/bokeh/release/bokeh-0.12.16.min.js\", \"https://cdn.pydata.org/bokeh/release/bokeh-widgets-0.12.16.min.js\", \"https://cdn.pydata.org/bokeh/release/bokeh-tables-0.12.16.min.js\", \"https://cdn.pydata.org/bokeh/release/bokeh-gl-0.12.16.min.js\"];\n",
       "\n",
       "  var inline_js = [\n",
       "    function(Bokeh) {\n",
       "      Bokeh.set_log_level(\"info\");\n",
       "    },\n",
       "    \n",
       "    function(Bokeh) {\n",
       "      \n",
       "    },\n",
       "    function(Bokeh) {\n",
       "      console.log(\"Bokeh: injecting CSS: https://cdn.pydata.org/bokeh/release/bokeh-0.12.16.min.css\");\n",
       "      Bokeh.embed.inject_css(\"https://cdn.pydata.org/bokeh/release/bokeh-0.12.16.min.css\");\n",
       "      console.log(\"Bokeh: injecting CSS: https://cdn.pydata.org/bokeh/release/bokeh-widgets-0.12.16.min.css\");\n",
       "      Bokeh.embed.inject_css(\"https://cdn.pydata.org/bokeh/release/bokeh-widgets-0.12.16.min.css\");\n",
       "      console.log(\"Bokeh: injecting CSS: https://cdn.pydata.org/bokeh/release/bokeh-tables-0.12.16.min.css\");\n",
       "      Bokeh.embed.inject_css(\"https://cdn.pydata.org/bokeh/release/bokeh-tables-0.12.16.min.css\");\n",
       "    }\n",
       "  ];\n",
       "\n",
       "  function run_inline_js() {\n",
       "    \n",
       "    if ((root.Bokeh !== undefined) || (force === true)) {\n",
       "      for (var i = 0; i < inline_js.length; i++) {\n",
       "        inline_js[i].call(root, root.Bokeh);\n",
       "      }if (force === true) {\n",
       "        display_loaded();\n",
       "      }} else if (Date.now() < root._bokeh_timeout) {\n",
       "      setTimeout(run_inline_js, 100);\n",
       "    } else if (!root._bokeh_failed_load) {\n",
       "      console.log(\"Bokeh: BokehJS failed to load within specified timeout.\");\n",
       "      root._bokeh_failed_load = true;\n",
       "    } else if (force !== true) {\n",
       "      var cell = $(document.getElementById(\"3880cf61-2f5d-45b8-b387-3d7a3129335d\")).parents('.cell').data().cell;\n",
       "      cell.output_area.append_execute_result(NB_LOAD_WARNING)\n",
       "    }\n",
       "\n",
       "  }\n",
       "\n",
       "  if (root._bokeh_is_loading === 0) {\n",
       "    console.log(\"Bokeh: BokehJS loaded, going straight to plotting\");\n",
       "    run_inline_js();\n",
       "  } else {\n",
       "    load_libs(js_urls, function() {\n",
       "      console.log(\"Bokeh: BokehJS plotting callback run at\", now());\n",
       "      run_inline_js();\n",
       "    });\n",
       "  }\n",
       "}(window));"
      ],
      "application/vnd.bokehjs_load.v0+json": "\n(function(root) {\n  function now() {\n    return new Date();\n  }\n\n  var force = true;\n\n  if (typeof (root._bokeh_onload_callbacks) === \"undefined\" || force === true) {\n    root._bokeh_onload_callbacks = [];\n    root._bokeh_is_loading = undefined;\n  }\n\n  \n\n  \n  if (typeof (root._bokeh_timeout) === \"undefined\" || force === true) {\n    root._bokeh_timeout = Date.now() + 5000;\n    root._bokeh_failed_load = false;\n  }\n\n  var NB_LOAD_WARNING = {'data': {'text/html':\n     \"<div style='background-color: #fdd'>\\n\"+\n     \"<p>\\n\"+\n     \"BokehJS does not appear to have successfully loaded. If loading BokehJS from CDN, this \\n\"+\n     \"may be due to a slow or bad network connection. Possible fixes:\\n\"+\n     \"</p>\\n\"+\n     \"<ul>\\n\"+\n     \"<li>re-rerun `output_notebook()` to attempt to load from CDN again, or</li>\\n\"+\n     \"<li>use INLINE resources instead, as so:</li>\\n\"+\n     \"</ul>\\n\"+\n     \"<code>\\n\"+\n     \"from bokeh.resources import INLINE\\n\"+\n     \"output_notebook(resources=INLINE)\\n\"+\n     \"</code>\\n\"+\n     \"</div>\"}};\n\n  function display_loaded() {\n    var el = document.getElementById(\"3880cf61-2f5d-45b8-b387-3d7a3129335d\");\n    if (el != null) {\n      el.textContent = \"BokehJS is loading...\";\n    }\n    if (root.Bokeh !== undefined) {\n      if (el != null) {\n        el.textContent = \"BokehJS \" + root.Bokeh.version + \" successfully loaded.\";\n      }\n    } else if (Date.now() < root._bokeh_timeout) {\n      setTimeout(display_loaded, 100)\n    }\n  }\n\n\n  function run_callbacks() {\n    try {\n      root._bokeh_onload_callbacks.forEach(function(callback) { callback() });\n    }\n    finally {\n      delete root._bokeh_onload_callbacks\n    }\n    console.info(\"Bokeh: all callbacks have finished\");\n  }\n\n  function load_libs(js_urls, callback) {\n    root._bokeh_onload_callbacks.push(callback);\n    if (root._bokeh_is_loading > 0) {\n      console.log(\"Bokeh: BokehJS is being loaded, scheduling callback at\", now());\n      return null;\n    }\n    if (js_urls == null || js_urls.length === 0) {\n      run_callbacks();\n      return null;\n    }\n    console.log(\"Bokeh: BokehJS not loaded, scheduling load and callback at\", now());\n    root._bokeh_is_loading = js_urls.length;\n    for (var i = 0; i < js_urls.length; i++) {\n      var url = js_urls[i];\n      var s = document.createElement('script');\n      s.src = url;\n      s.async = false;\n      s.onreadystatechange = s.onload = function() {\n        root._bokeh_is_loading--;\n        if (root._bokeh_is_loading === 0) {\n          console.log(\"Bokeh: all BokehJS libraries loaded\");\n          run_callbacks()\n        }\n      };\n      s.onerror = function() {\n        console.warn(\"failed to load library \" + url);\n      };\n      console.log(\"Bokeh: injecting script tag for BokehJS library: \", url);\n      document.getElementsByTagName(\"head\")[0].appendChild(s);\n    }\n  };var element = document.getElementById(\"3880cf61-2f5d-45b8-b387-3d7a3129335d\");\n  if (element == null) {\n    console.log(\"Bokeh: ERROR: autoload.js configured with elementid '3880cf61-2f5d-45b8-b387-3d7a3129335d' but no matching script tag was found. \")\n    return false;\n  }\n\n  var js_urls = [\"https://cdn.pydata.org/bokeh/release/bokeh-0.12.16.min.js\", \"https://cdn.pydata.org/bokeh/release/bokeh-widgets-0.12.16.min.js\", \"https://cdn.pydata.org/bokeh/release/bokeh-tables-0.12.16.min.js\", \"https://cdn.pydata.org/bokeh/release/bokeh-gl-0.12.16.min.js\"];\n\n  var inline_js = [\n    function(Bokeh) {\n      Bokeh.set_log_level(\"info\");\n    },\n    \n    function(Bokeh) {\n      \n    },\n    function(Bokeh) {\n      console.log(\"Bokeh: injecting CSS: https://cdn.pydata.org/bokeh/release/bokeh-0.12.16.min.css\");\n      Bokeh.embed.inject_css(\"https://cdn.pydata.org/bokeh/release/bokeh-0.12.16.min.css\");\n      console.log(\"Bokeh: injecting CSS: https://cdn.pydata.org/bokeh/release/bokeh-widgets-0.12.16.min.css\");\n      Bokeh.embed.inject_css(\"https://cdn.pydata.org/bokeh/release/bokeh-widgets-0.12.16.min.css\");\n      console.log(\"Bokeh: injecting CSS: https://cdn.pydata.org/bokeh/release/bokeh-tables-0.12.16.min.css\");\n      Bokeh.embed.inject_css(\"https://cdn.pydata.org/bokeh/release/bokeh-tables-0.12.16.min.css\");\n    }\n  ];\n\n  function run_inline_js() {\n    \n    if ((root.Bokeh !== undefined) || (force === true)) {\n      for (var i = 0; i < inline_js.length; i++) {\n        inline_js[i].call(root, root.Bokeh);\n      }if (force === true) {\n        display_loaded();\n      }} else if (Date.now() < root._bokeh_timeout) {\n      setTimeout(run_inline_js, 100);\n    } else if (!root._bokeh_failed_load) {\n      console.log(\"Bokeh: BokehJS failed to load within specified timeout.\");\n      root._bokeh_failed_load = true;\n    } else if (force !== true) {\n      var cell = $(document.getElementById(\"3880cf61-2f5d-45b8-b387-3d7a3129335d\")).parents('.cell').data().cell;\n      cell.output_area.append_execute_result(NB_LOAD_WARNING)\n    }\n\n  }\n\n  if (root._bokeh_is_loading === 0) {\n    console.log(\"Bokeh: BokehJS loaded, going straight to plotting\");\n    run_inline_js();\n  } else {\n    load_libs(js_urls, function() {\n      console.log(\"Bokeh: BokehJS plotting callback run at\", now());\n      run_inline_js();\n    });\n  }\n}(window));"
     },
     "metadata": {},
     "output_type": "display_data"
    }
   ],
   "source": [
    "from bokeh.plotting import figure,show,output_notebook\n",
    "output_notebook()"
   ]
  },
  {
   "cell_type": "code",
   "execution_count": 14,
   "metadata": {},
   "outputs": [
    {
     "data": {
      "text/html": [
       "\n",
       "<div class=\"bk-root\">\n",
       "    <div class=\"bk-plotdiv\" id=\"cb6e13f0-fb19-4c67-9434-8ef3ffc63e1f\"></div>\n",
       "</div>"
      ]
     },
     "metadata": {},
     "output_type": "display_data"
    },
    {
     "data": {
      "application/javascript": [
       "(function(root) {\n",
       "  function embed_document(root) {\n",
       "    \n",
       "  var docs_json = {\"7b5ff12f-4d9e-4736-bb4c-2abee66abb19\":{\"roots\":{\"references\":[{\"attributes\":{},\"id\":\"be287e27-19db-490b-a6e0-ed82844abc3c\",\"type\":\"LinearScale\"},{\"attributes\":{},\"id\":\"5daef1bc-996a-4b40-9510-09f91fcaa149\",\"type\":\"BasicTicker\"},{\"attributes\":{\"data_source\":{\"id\":\"49a7e453-5172-4612-b6cb-36827dd40d39\",\"type\":\"ColumnDataSource\"},\"glyph\":{\"id\":\"a1942e94-aec7-4951-918d-4b59b21c18ee\",\"type\":\"Quad\"},\"hover_glyph\":null,\"muted_glyph\":null,\"nonselection_glyph\":{\"id\":\"118a9552-a83f-4e04-a93c-3b82b0402564\",\"type\":\"Quad\"},\"selection_glyph\":null,\"view\":{\"id\":\"309c2885-4507-4424-a052-a171197bbec1\",\"type\":\"CDSView\"}},\"id\":\"c047e0f9-286d-4dda-a628-ba6bcee9fed2\",\"type\":\"GlyphRenderer\"},{\"attributes\":{\"axis_label\":\"# of recipients\",\"formatter\":{\"id\":\"997e176f-4dfd-464b-81ff-b66315ddd44d\",\"type\":\"BasicTickFormatter\"},\"plot\":{\"id\":\"9d8d29c0-d071-458d-a2bc-c9da92cc41ea\",\"subtype\":\"Figure\",\"type\":\"Plot\"},\"ticker\":{\"id\":\"71e0acd7-71a2-407e-a1bd-70ac9716beb1\",\"type\":\"BasicTicker\"}},\"id\":\"99b6d87b-99dd-4ceb-a17a-91585017f1d1\",\"type\":\"LinearAxis\"},{\"attributes\":{\"dimension\":1,\"plot\":{\"id\":\"9d8d29c0-d071-458d-a2bc-c9da92cc41ea\",\"subtype\":\"Figure\",\"type\":\"Plot\"},\"ticker\":{\"id\":\"5daef1bc-996a-4b40-9510-09f91fcaa149\",\"type\":\"BasicTicker\"}},\"id\":\"6e115824-efac-4329-bda3-8da2e7f11eb3\",\"type\":\"Grid\"},{\"attributes\":{\"callback\":null},\"id\":\"875d702e-f765-418c-b473-14d2298ad6f3\",\"type\":\"DataRange1d\"},{\"attributes\":{\"source\":{\"id\":\"49a7e453-5172-4612-b6cb-36827dd40d39\",\"type\":\"ColumnDataSource\"}},\"id\":\"309c2885-4507-4424-a052-a171197bbec1\",\"type\":\"CDSView\"},{\"attributes\":{\"bottom\":{\"value\":0},\"fill_color\":{\"value\":\"#1f77b4\"},\"left\":{\"field\":\"left\"},\"right\":{\"field\":\"right\"},\"top\":{\"field\":\"top\"}},\"id\":\"a1942e94-aec7-4951-918d-4b59b21c18ee\",\"type\":\"Quad\"},{\"attributes\":{},\"id\":\"1bad045c-f5f4-46ac-869f-267c1db9b966\",\"type\":\"UnionRenderers\"},{\"attributes\":{\"callback\":null},\"id\":\"d9c34ad4-e0bd-49b6-ae60-52decc5b6e29\",\"type\":\"DataRange1d\"},{\"attributes\":{\"axis_label\":\"Counts\",\"formatter\":{\"id\":\"8dfece2b-92af-4d1e-a314-6ebf9766ca11\",\"type\":\"BasicTickFormatter\"},\"plot\":{\"id\":\"9d8d29c0-d071-458d-a2bc-c9da92cc41ea\",\"subtype\":\"Figure\",\"type\":\"Plot\"},\"ticker\":{\"id\":\"5daef1bc-996a-4b40-9510-09f91fcaa149\",\"type\":\"BasicTicker\"}},\"id\":\"f16c8dfa-5814-47b1-b910-5e9ffbf3ef77\",\"type\":\"LinearAxis\"},{\"attributes\":{},\"id\":\"bc9472ce-ff70-43a4-a6cb-d1c2bee706d8\",\"type\":\"Selection\"},{\"attributes\":{\"callback\":null,\"data\":{\"left\":[0.5,1.5,2.5,3.5,4.5,5.5,6.5,7.5,12.5,10.5,11.5,9.5,14.5,8.5,13.5,15.5,16.5,56.5,20.5,21.5,54.5,51.5,48.5,23.5,17.5,18.5,19.5],\"right\":[1.5,2.5,3.5,4.5,5.5,6.5,7.5,8.5,13.5,11.5,12.5,10.5,15.5,9.5,14.5,16.5,17.5,57.5,21.5,22.5,55.5,52.5,49.5,24.5,18.5,19.5,20.5],\"top\":[14985,2962,1435,873,711,180,176,61,57,47,33,29,28,24,11,9,2,2,2,1,1,1,1,1,1,1,1]},\"selected\":{\"id\":\"bc9472ce-ff70-43a4-a6cb-d1c2bee706d8\",\"type\":\"Selection\"},\"selection_policy\":{\"id\":\"1bad045c-f5f4-46ac-869f-267c1db9b966\",\"type\":\"UnionRenderers\"}},\"id\":\"49a7e453-5172-4612-b6cb-36827dd40d39\",\"type\":\"ColumnDataSource\"},{\"attributes\":{},\"id\":\"997e176f-4dfd-464b-81ff-b66315ddd44d\",\"type\":\"BasicTickFormatter\"},{\"attributes\":{},\"id\":\"febb2be7-70bd-4433-a366-9cadbe61dcd5\",\"type\":\"LinearScale\"},{\"attributes\":{\"below\":[{\"id\":\"99b6d87b-99dd-4ceb-a17a-91585017f1d1\",\"type\":\"LinearAxis\"}],\"left\":[{\"id\":\"f16c8dfa-5814-47b1-b910-5e9ffbf3ef77\",\"type\":\"LinearAxis\"}],\"renderers\":[{\"id\":\"99b6d87b-99dd-4ceb-a17a-91585017f1d1\",\"type\":\"LinearAxis\"},{\"id\":\"9bd91029-b3f5-4d6d-8e48-f12112af8242\",\"type\":\"Grid\"},{\"id\":\"f16c8dfa-5814-47b1-b910-5e9ffbf3ef77\",\"type\":\"LinearAxis\"},{\"id\":\"6e115824-efac-4329-bda3-8da2e7f11eb3\",\"type\":\"Grid\"},{\"id\":\"c047e0f9-286d-4dda-a628-ba6bcee9fed2\",\"type\":\"GlyphRenderer\"}],\"title\":{\"id\":\"e682872b-d7d7-4286-a965-deb9eb4a6681\",\"type\":\"Title\"},\"toolbar\":{\"id\":\"a9293375-cdc7-4a19-8d02-ead4a06c4e37\",\"type\":\"Toolbar\"},\"x_range\":{\"id\":\"d9c34ad4-e0bd-49b6-ae60-52decc5b6e29\",\"type\":\"DataRange1d\"},\"x_scale\":{\"id\":\"febb2be7-70bd-4433-a366-9cadbe61dcd5\",\"type\":\"LinearScale\"},\"y_range\":{\"id\":\"875d702e-f765-418c-b473-14d2298ad6f3\",\"type\":\"DataRange1d\"},\"y_scale\":{\"id\":\"be287e27-19db-490b-a6e0-ed82844abc3c\",\"type\":\"LinearScale\"}},\"id\":\"9d8d29c0-d071-458d-a2bc-c9da92cc41ea\",\"subtype\":\"Figure\",\"type\":\"Plot\"},{\"attributes\":{\"bottom\":{\"value\":0},\"fill_alpha\":{\"value\":0.1},\"fill_color\":{\"value\":\"#1f77b4\"},\"left\":{\"field\":\"left\"},\"line_alpha\":{\"value\":0.1},\"line_color\":{\"value\":\"#1f77b4\"},\"right\":{\"field\":\"right\"},\"top\":{\"field\":\"top\"}},\"id\":\"118a9552-a83f-4e04-a93c-3b82b0402564\",\"type\":\"Quad\"},{\"attributes\":{\"plot\":null,\"text\":\"Message Recipients\"},\"id\":\"e682872b-d7d7-4286-a965-deb9eb4a6681\",\"type\":\"Title\"},{\"attributes\":{\"plot\":{\"id\":\"9d8d29c0-d071-458d-a2bc-c9da92cc41ea\",\"subtype\":\"Figure\",\"type\":\"Plot\"},\"ticker\":{\"id\":\"71e0acd7-71a2-407e-a1bd-70ac9716beb1\",\"type\":\"BasicTicker\"}},\"id\":\"9bd91029-b3f5-4d6d-8e48-f12112af8242\",\"type\":\"Grid\"},{\"attributes\":{\"active_drag\":\"auto\",\"active_inspect\":\"auto\",\"active_scroll\":\"auto\",\"active_tap\":\"auto\"},\"id\":\"a9293375-cdc7-4a19-8d02-ead4a06c4e37\",\"type\":\"Toolbar\"},{\"attributes\":{},\"id\":\"8dfece2b-92af-4d1e-a314-6ebf9766ca11\",\"type\":\"BasicTickFormatter\"},{\"attributes\":{},\"id\":\"71e0acd7-71a2-407e-a1bd-70ac9716beb1\",\"type\":\"BasicTicker\"}],\"root_ids\":[\"9d8d29c0-d071-458d-a2bc-c9da92cc41ea\"]},\"title\":\"Bokeh Application\",\"version\":\"0.12.16\"}};\n",
       "  var render_items = [{\"docid\":\"7b5ff12f-4d9e-4736-bb4c-2abee66abb19\",\"elementid\":\"cb6e13f0-fb19-4c67-9434-8ef3ffc63e1f\",\"modelid\":\"9d8d29c0-d071-458d-a2bc-c9da92cc41ea\"}];\n",
       "  root.Bokeh.embed.embed_items_notebook(docs_json, render_items);\n",
       "\n",
       "  }\n",
       "  if (root.Bokeh !== undefined) {\n",
       "    embed_document(root);\n",
       "  } else {\n",
       "    var attempts = 0;\n",
       "    var timer = setInterval(function(root) {\n",
       "      if (root.Bokeh !== undefined) {\n",
       "        embed_document(root);\n",
       "        clearInterval(timer);\n",
       "      }\n",
       "      attempts++;\n",
       "      if (attempts > 100) {\n",
       "        console.log(\"Bokeh: ERROR: Unable to run BokehJS code because BokehJS library is missing\")\n",
       "        clearInterval(timer);\n",
       "      }\n",
       "    }, 10, root)\n",
       "  }\n",
       "})(window);"
      ],
      "application/vnd.bokehjs_exec.v0+json": ""
     },
     "metadata": {
      "application/vnd.bokehjs_exec.v0+json": {
       "id": "9d8d29c0-d071-458d-a2bc-c9da92cc41ea"
      }
     },
     "output_type": "display_data"
    }
   ],
   "source": [
    "x = [i[0] for i in counts.most_common()]\n",
    "y = [i[1] for i in counts.most_common()]\n",
    "left_border = [val-0.5 for val in x]\n",
    "right_border = [val+0.5 for val in x]\n",
    "\n",
    "\n",
    "p= figure(title=\"Message Recipients\",tools='',x_axis_label='# of recipients',y_axis_label='Counts')\n",
    "p.quad(top=y,left=left_border,right=right_border,bottom=0,line_color='black')\n",
    "show(p)"
   ]
  },
  {
   "cell_type": "markdown",
   "metadata": {},
   "source": [
    "Rescale to investigate the tail of the curve"
   ]
  },
  {
   "cell_type": "code",
   "execution_count": 15,
   "metadata": {},
   "outputs": [
    {
     "data": {
      "text/html": [
       "\n",
       "<div class=\"bk-root\">\n",
       "    <div class=\"bk-plotdiv\" id=\"8354eab3-33d1-4fdc-a69b-fe2ae4e03674\"></div>\n",
       "</div>"
      ]
     },
     "metadata": {},
     "output_type": "display_data"
    },
    {
     "data": {
      "application/javascript": [
       "(function(root) {\n",
       "  function embed_document(root) {\n",
       "    \n",
       "  var docs_json = {\"6290c27d-6d73-4d7d-a4c0-774b969d84e6\":{\"roots\":{\"references\":[{\"attributes\":{\"plot\":null,\"text\":\"Message Recipients\"},\"id\":\"4266af03-55b0-4033-b9f3-accdb2543f38\",\"type\":\"Title\"},{\"attributes\":{},\"id\":\"7ed9553c-8e8a-4c16-9db0-9517e46eb041\",\"type\":\"BasicTicker\"},{\"attributes\":{\"active_drag\":\"auto\",\"active_inspect\":\"auto\",\"active_scroll\":\"auto\",\"active_tap\":\"auto\"},\"id\":\"81c5906a-0968-4f8e-b20f-51991f9be03a\",\"type\":\"Toolbar\"},{\"attributes\":{},\"id\":\"2033cdd0-a839-45c1-8903-23d75ce9d767\",\"type\":\"LinearScale\"},{\"attributes\":{\"bottom\":{\"value\":0},\"fill_color\":{\"value\":\"#1f77b4\"},\"left\":{\"field\":\"left\"},\"right\":{\"field\":\"right\"},\"top\":{\"field\":\"top\"}},\"id\":\"0a467fb1-b8b3-40ce-ac3e-732f7913a1bb\",\"type\":\"Quad\"},{\"attributes\":{},\"id\":\"c15793ef-9a47-418d-aa5d-17a62b8f0c85\",\"type\":\"BasicTickFormatter\"},{\"attributes\":{},\"id\":\"82bf3481-7217-4298-a9bc-c0a17e62e90f\",\"type\":\"BasicTicker\"},{\"attributes\":{},\"id\":\"b2a7d0e4-2b0e-4dfa-88d0-448384d4e301\",\"type\":\"UnionRenderers\"},{\"attributes\":{\"axis_label\":\"# of recipients\",\"formatter\":{\"id\":\"c15793ef-9a47-418d-aa5d-17a62b8f0c85\",\"type\":\"BasicTickFormatter\"},\"plot\":{\"id\":\"85500c39-f043-4904-9931-aea52483dc25\",\"subtype\":\"Figure\",\"type\":\"Plot\"},\"ticker\":{\"id\":\"82bf3481-7217-4298-a9bc-c0a17e62e90f\",\"type\":\"BasicTicker\"}},\"id\":\"6b0876f2-bb26-4e38-8027-74b57b75cb85\",\"type\":\"LinearAxis\"},{\"attributes\":{\"data_source\":{\"id\":\"b363d942-1486-49c8-ae50-bc74dbf66e49\",\"type\":\"ColumnDataSource\"},\"glyph\":{\"id\":\"0a467fb1-b8b3-40ce-ac3e-732f7913a1bb\",\"type\":\"Quad\"},\"hover_glyph\":null,\"muted_glyph\":null,\"nonselection_glyph\":{\"id\":\"fdfa34a9-5b72-47c3-8a5e-b73063b7a3a6\",\"type\":\"Quad\"},\"selection_glyph\":null,\"view\":{\"id\":\"649b5794-60bc-4657-8fa0-f67f0cb454f5\",\"type\":\"CDSView\"}},\"id\":\"beea30f8-3529-40f5-9502-8edaa0402c05\",\"type\":\"GlyphRenderer\"},{\"attributes\":{\"plot\":{\"id\":\"85500c39-f043-4904-9931-aea52483dc25\",\"subtype\":\"Figure\",\"type\":\"Plot\"},\"ticker\":{\"id\":\"82bf3481-7217-4298-a9bc-c0a17e62e90f\",\"type\":\"BasicTicker\"}},\"id\":\"f854f5a6-de07-402e-a34d-58e7c517c788\",\"type\":\"Grid\"},{\"attributes\":{},\"id\":\"091dbde9-1c5f-4f79-befb-b10050e0fe17\",\"type\":\"LinearScale\"},{\"attributes\":{\"callback\":null},\"id\":\"99411431-2d24-4007-a2aa-b63c2c694efd\",\"type\":\"DataRange1d\"},{\"attributes\":{\"dimension\":1,\"plot\":{\"id\":\"85500c39-f043-4904-9931-aea52483dc25\",\"subtype\":\"Figure\",\"type\":\"Plot\"},\"ticker\":{\"id\":\"7ed9553c-8e8a-4c16-9db0-9517e46eb041\",\"type\":\"BasicTicker\"}},\"id\":\"943515f3-23ae-4d30-8591-4521af19eb3e\",\"type\":\"Grid\"},{\"attributes\":{\"callback\":null},\"id\":\"5aed97c6-ce5e-4292-98bd-fc8403cd00be\",\"type\":\"DataRange1d\"},{\"attributes\":{\"below\":[{\"id\":\"6b0876f2-bb26-4e38-8027-74b57b75cb85\",\"type\":\"LinearAxis\"}],\"left\":[{\"id\":\"e0948c21-6747-42d6-85bc-c15c77234bfa\",\"type\":\"LinearAxis\"}],\"renderers\":[{\"id\":\"6b0876f2-bb26-4e38-8027-74b57b75cb85\",\"type\":\"LinearAxis\"},{\"id\":\"f854f5a6-de07-402e-a34d-58e7c517c788\",\"type\":\"Grid\"},{\"id\":\"e0948c21-6747-42d6-85bc-c15c77234bfa\",\"type\":\"LinearAxis\"},{\"id\":\"943515f3-23ae-4d30-8591-4521af19eb3e\",\"type\":\"Grid\"},{\"id\":\"beea30f8-3529-40f5-9502-8edaa0402c05\",\"type\":\"GlyphRenderer\"}],\"title\":{\"id\":\"4266af03-55b0-4033-b9f3-accdb2543f38\",\"type\":\"Title\"},\"toolbar\":{\"id\":\"81c5906a-0968-4f8e-b20f-51991f9be03a\",\"type\":\"Toolbar\"},\"x_range\":{\"id\":\"5aed97c6-ce5e-4292-98bd-fc8403cd00be\",\"type\":\"DataRange1d\"},\"x_scale\":{\"id\":\"2033cdd0-a839-45c1-8903-23d75ce9d767\",\"type\":\"LinearScale\"},\"y_range\":{\"id\":\"99411431-2d24-4007-a2aa-b63c2c694efd\",\"type\":\"DataRange1d\"},\"y_scale\":{\"id\":\"091dbde9-1c5f-4f79-befb-b10050e0fe17\",\"type\":\"LinearScale\"}},\"id\":\"85500c39-f043-4904-9931-aea52483dc25\",\"subtype\":\"Figure\",\"type\":\"Plot\"},{\"attributes\":{},\"id\":\"cf575d04-9288-4f18-a137-983521a703e0\",\"type\":\"Selection\"},{\"attributes\":{\"axis_label\":\"Counts\",\"formatter\":{\"id\":\"6a59a4ea-1db4-42e0-8d6a-01ce14287312\",\"type\":\"BasicTickFormatter\"},\"plot\":{\"id\":\"85500c39-f043-4904-9931-aea52483dc25\",\"subtype\":\"Figure\",\"type\":\"Plot\"},\"ticker\":{\"id\":\"7ed9553c-8e8a-4c16-9db0-9517e46eb041\",\"type\":\"BasicTicker\"}},\"id\":\"e0948c21-6747-42d6-85bc-c15c77234bfa\",\"type\":\"LinearAxis\"},{\"attributes\":{},\"id\":\"6a59a4ea-1db4-42e0-8d6a-01ce14287312\",\"type\":\"BasicTickFormatter\"},{\"attributes\":{\"bottom\":{\"value\":0},\"fill_alpha\":{\"value\":0.1},\"fill_color\":{\"value\":\"#1f77b4\"},\"left\":{\"field\":\"left\"},\"line_alpha\":{\"value\":0.1},\"line_color\":{\"value\":\"#1f77b4\"},\"right\":{\"field\":\"right\"},\"top\":{\"field\":\"top\"}},\"id\":\"fdfa34a9-5b72-47c3-8a5e-b73063b7a3a6\",\"type\":\"Quad\"},{\"attributes\":{\"source\":{\"id\":\"b363d942-1486-49c8-ae50-bc74dbf66e49\",\"type\":\"ColumnDataSource\"}},\"id\":\"649b5794-60bc-4657-8fa0-f67f0cb454f5\",\"type\":\"CDSView\"},{\"attributes\":{\"callback\":null,\"data\":{\"left\":[5.5,6.5,7.5,12.5,10.5,11.5,9.5,14.5,8.5,13.5,15.5,16.5,56.5,20.5,21.5,54.5,51.5,48.5,23.5,17.5,18.5,19.5],\"right\":[6.5,7.5,8.5,13.5,11.5,12.5,10.5,15.5,9.5,14.5,16.5,17.5,57.5,21.5,22.5,55.5,52.5,49.5,24.5,18.5,19.5,20.5],\"top\":[180,176,61,57,47,33,29,28,24,11,9,2,2,2,1,1,1,1,1,1,1,1]},\"selected\":{\"id\":\"cf575d04-9288-4f18-a137-983521a703e0\",\"type\":\"Selection\"},\"selection_policy\":{\"id\":\"b2a7d0e4-2b0e-4dfa-88d0-448384d4e301\",\"type\":\"UnionRenderers\"}},\"id\":\"b363d942-1486-49c8-ae50-bc74dbf66e49\",\"type\":\"ColumnDataSource\"}],\"root_ids\":[\"85500c39-f043-4904-9931-aea52483dc25\"]},\"title\":\"Bokeh Application\",\"version\":\"0.12.16\"}};\n",
       "  var render_items = [{\"docid\":\"6290c27d-6d73-4d7d-a4c0-774b969d84e6\",\"elementid\":\"8354eab3-33d1-4fdc-a69b-fe2ae4e03674\",\"modelid\":\"85500c39-f043-4904-9931-aea52483dc25\"}];\n",
       "  root.Bokeh.embed.embed_items_notebook(docs_json, render_items);\n",
       "\n",
       "  }\n",
       "  if (root.Bokeh !== undefined) {\n",
       "    embed_document(root);\n",
       "  } else {\n",
       "    var attempts = 0;\n",
       "    var timer = setInterval(function(root) {\n",
       "      if (root.Bokeh !== undefined) {\n",
       "        embed_document(root);\n",
       "        clearInterval(timer);\n",
       "      }\n",
       "      attempts++;\n",
       "      if (attempts > 100) {\n",
       "        console.log(\"Bokeh: ERROR: Unable to run BokehJS code because BokehJS library is missing\")\n",
       "        clearInterval(timer);\n",
       "      }\n",
       "    }, 10, root)\n",
       "  }\n",
       "})(window);"
      ],
      "application/vnd.bokehjs_exec.v0+json": ""
     },
     "metadata": {
      "application/vnd.bokehjs_exec.v0+json": {
       "id": "85500c39-f043-4904-9931-aea52483dc25"
      }
     },
     "output_type": "display_data"
    }
   ],
   "source": [
    "x = [i[0] for i in counts.most_common()[5:]]  # chop off the first 5\n",
    "y = [i[1] for i in counts.most_common()[5:]]  # chop off the first 5\n",
    "left_border = [val-0.5 for val in x]\n",
    "right_border = [val+0.5 for val in x]\n",
    "\n",
    "\n",
    "p= figure(title=\"Message Recipients\",tools='',x_axis_label='# of recipients',y_axis_label='Counts')\n",
    "p.quad(top=y,left=left_border,right=right_border,bottom=0,line_color='black')\n",
    "show(p)"
   ]
  },
  {
   "cell_type": "markdown",
   "metadata": {},
   "source": [
    "## 3. Data Merging\n",
    "\n",
    "Use the pandas merge function to combine the information in the 3 dataframes to answer the following questions:\n",
    "\n",
    "1. Are there more Men or Women employees?\n",
    "- How is gender distributed across departments?\n",
    "- Who is sending more emails? Men or Women?\n",
    "- What's the average number of emails sent by each gender?\n",
    "- Are there more Juniors or Seniors?\n",
    "- Who is sending more emails? Juniors or Seniors?\n",
    "- Which department is sending more emails? How does that relate with the number of employees in the department?\n",
    "- Who are the top 3 senders of emails? (people who sent out the most emails)"
   ]
  },
  {
   "cell_type": "code",
   "execution_count": 16,
   "metadata": {},
   "outputs": [
    {
     "data": {
      "text/plain": [
       "Male      113\n",
       "Female     43\n",
       "Name: gender, dtype: int64"
      ]
     },
     "execution_count": 16,
     "metadata": {},
     "output_type": "execute_result"
    }
   ],
   "source": [
    "employees.gender.value_counts()"
   ]
  },
  {
   "cell_type": "markdown",
   "metadata": {},
   "source": [
    "More men"
   ]
  },
  {
   "cell_type": "code",
   "execution_count": 17,
   "metadata": {},
   "outputs": [
    {
     "data": {
      "text/plain": [
       "Male      0.724359\n",
       "Female    0.275641\n",
       "Name: gender, dtype: float64"
      ]
     },
     "execution_count": 17,
     "metadata": {},
     "output_type": "execute_result"
    }
   ],
   "source": [
    "employees.gender.value_counts() / employees.gender.count()"
   ]
  },
  {
   "cell_type": "code",
   "execution_count": 18,
   "metadata": {},
   "outputs": [
    {
     "data": {
      "text/plain": [
       "department  gender\n",
       "Forestry    Male      0.833333\n",
       "            Female    0.166667\n",
       "Legal       Female    0.520000\n",
       "            Male      0.480000\n",
       "Other       Male      0.718310\n",
       "            Female    0.281690\n",
       "Name: gender, dtype: float64"
      ]
     },
     "execution_count": 18,
     "metadata": {},
     "output_type": "execute_result"
    }
   ],
   "source": [
    "# How is gender distributed across departments?\n",
    "employees.groupby('department')['gender'].value_counts() / employees.groupby('department')['gender'].count()"
   ]
  },
  {
   "cell_type": "markdown",
   "metadata": {},
   "source": [
    "    Forestry 83% Male\n",
    "    Legal    48% Male\n",
    "    Other    72% Male\n",
    "    Company  72% Male"
   ]
  },
  {
   "cell_type": "code",
   "execution_count": 19,
   "metadata": {},
   "outputs": [
    {
     "data": {
      "text/plain": [
       "Male      0.593529\n",
       "Female    0.406471\n",
       "Name: gender, dtype: float64"
      ]
     },
     "execution_count": 19,
     "metadata": {},
     "output_type": "execute_result"
    }
   ],
   "source": [
    "# Who is sending more emails? Men or Women?\n",
    "df = pd.merge(employees, messages, left_on='eid', right_on='from_eid')\n",
    "df.gender.value_counts() / df.gender.count()"
   ]
  },
  {
   "cell_type": "code",
   "execution_count": 20,
   "metadata": {},
   "outputs": [
    {
     "data": {
      "text/plain": [
       "Male      113.637168\n",
       "Female    204.511628\n",
       "Name: gender, dtype: float64"
      ]
     },
     "execution_count": 20,
     "metadata": {},
     "output_type": "execute_result"
    }
   ],
   "source": [
    "# What's the average number of emails sent by each gender?\n",
    "df.gender.value_counts() / employees.gender.value_counts()"
   ]
  },
  {
   "cell_type": "markdown",
   "metadata": {},
   "source": [
    "Women sent almost twice as many messages on average"
   ]
  },
  {
   "cell_type": "code",
   "execution_count": 21,
   "metadata": {},
   "outputs": [
    {
     "data": {
      "text/plain": [
       "Junior    82\n",
       "Senior    74\n",
       "Name: seniority, dtype: int64"
      ]
     },
     "execution_count": 21,
     "metadata": {},
     "output_type": "execute_result"
    }
   ],
   "source": [
    "employees.seniority.value_counts()"
   ]
  },
  {
   "cell_type": "code",
   "execution_count": 22,
   "metadata": {},
   "outputs": [
    {
     "data": {
      "text/plain": [
       "Senior    12439\n",
       "Junior     9196\n",
       "Name: seniority, dtype: int64"
      ]
     },
     "execution_count": 22,
     "metadata": {},
     "output_type": "execute_result"
    }
   ],
   "source": [
    "df.seniority.value_counts()"
   ]
  },
  {
   "cell_type": "code",
   "execution_count": 23,
   "metadata": {},
   "outputs": [
    {
     "data": {
      "text/plain": [
       "Junior    112.146341\n",
       "Senior    168.094595\n",
       "Name: seniority, dtype: float64"
      ]
     },
     "execution_count": 23,
     "metadata": {},
     "output_type": "execute_result"
    }
   ],
   "source": [
    "df.seniority.value_counts() / employees.seniority.value_counts()"
   ]
  },
  {
   "cell_type": "markdown",
   "metadata": {},
   "source": [
    "Senior employees send more messages in absolute value and also on average"
   ]
  },
  {
   "cell_type": "code",
   "execution_count": 24,
   "metadata": {},
   "outputs": [
    {
     "data": {
      "text/plain": [
       "Legal       10396\n",
       "Other        6852\n",
       "Forestry     4387\n",
       "Name: department, dtype: int64"
      ]
     },
     "execution_count": 24,
     "metadata": {},
     "output_type": "execute_result"
    }
   ],
   "source": [
    "# Which department is sending more emails? How does that relate with the number of employees in the department?\n",
    "df.department.value_counts()"
   ]
  },
  {
   "cell_type": "code",
   "execution_count": 25,
   "metadata": {},
   "outputs": [
    {
     "data": {
      "text/plain": [
       "Forestry     73.116667\n",
       "Legal       415.840000\n",
       "Other        96.507042\n",
       "Name: department, dtype: float64"
      ]
     },
     "execution_count": 25,
     "metadata": {},
     "output_type": "execute_result"
    }
   ],
   "source": [
    "df.department.value_counts() / employees.department.value_counts()"
   ]
  },
  {
   "cell_type": "markdown",
   "metadata": {},
   "source": [
    "Legal is sending many more messages than the other departments"
   ]
  },
  {
   "cell_type": "code",
   "execution_count": 26,
   "metadata": {},
   "outputs": [
    {
     "data": {
      "text/html": [
       "<div>\n",
       "<style scoped>\n",
       "    .dataframe tbody tr th:only-of-type {\n",
       "        vertical-align: middle;\n",
       "    }\n",
       "\n",
       "    .dataframe tbody tr th {\n",
       "        vertical-align: top;\n",
       "    }\n",
       "\n",
       "    .dataframe thead th {\n",
       "        text-align: right;\n",
       "    }\n",
       "</style>\n",
       "<table border=\"1\" class=\"dataframe\">\n",
       "  <thead>\n",
       "    <tr style=\"text-align: right;\">\n",
       "      <th></th>\n",
       "      <th>eid</th>\n",
       "      <th>msgs_sent</th>\n",
       "    </tr>\n",
       "  </thead>\n",
       "  <tbody>\n",
       "    <tr>\n",
       "      <th>0</th>\n",
       "      <td>20</td>\n",
       "      <td>1597</td>\n",
       "    </tr>\n",
       "    <tr>\n",
       "      <th>1</th>\n",
       "      <td>59</td>\n",
       "      <td>1379</td>\n",
       "    </tr>\n",
       "    <tr>\n",
       "      <th>2</th>\n",
       "      <td>120</td>\n",
       "      <td>1142</td>\n",
       "    </tr>\n",
       "    <tr>\n",
       "      <th>3</th>\n",
       "      <td>131</td>\n",
       "      <td>859</td>\n",
       "    </tr>\n",
       "    <tr>\n",
       "      <th>4</th>\n",
       "      <td>138</td>\n",
       "      <td>658</td>\n",
       "    </tr>\n",
       "  </tbody>\n",
       "</table>\n",
       "</div>"
      ],
      "text/plain": [
       "   eid  msgs_sent\n",
       "0   20       1597\n",
       "1   59       1379\n",
       "2  120       1142\n",
       "3  131        859\n",
       "4  138        658"
      ]
     },
     "execution_count": 26,
     "metadata": {},
     "output_type": "execute_result"
    }
   ],
   "source": [
    "# Who are the top 5 senders of emails? (people who sent out the most emails)\n",
    "top5senders = df.eid.value_counts().head().reset_index()\n",
    "top5senders.columns = ['eid', 'msgs_sent']\n",
    "top5senders"
   ]
  },
  {
   "cell_type": "code",
   "execution_count": 27,
   "metadata": {},
   "outputs": [
    {
     "data": {
      "text/html": [
       "<div>\n",
       "<style scoped>\n",
       "    .dataframe tbody tr th:only-of-type {\n",
       "        vertical-align: middle;\n",
       "    }\n",
       "\n",
       "    .dataframe tbody tr th {\n",
       "        vertical-align: top;\n",
       "    }\n",
       "\n",
       "    .dataframe thead th {\n",
       "        text-align: right;\n",
       "    }\n",
       "</style>\n",
       "<table border=\"1\" class=\"dataframe\">\n",
       "  <thead>\n",
       "    <tr style=\"text-align: right;\">\n",
       "      <th></th>\n",
       "      <th>eid</th>\n",
       "      <th>name</th>\n",
       "      <th>department</th>\n",
       "      <th>longdepartment</th>\n",
       "      <th>title</th>\n",
       "      <th>gender</th>\n",
       "      <th>seniority</th>\n",
       "      <th>msgs_sent</th>\n",
       "    </tr>\n",
       "  </thead>\n",
       "  <tbody>\n",
       "    <tr>\n",
       "      <th>0</th>\n",
       "      <td>20</td>\n",
       "      <td>Jeff Dasovich</td>\n",
       "      <td>Legal</td>\n",
       "      <td>Regulatory and Government Affairs</td>\n",
       "      <td>Director</td>\n",
       "      <td>Male</td>\n",
       "      <td>Senior</td>\n",
       "      <td>1597</td>\n",
       "    </tr>\n",
       "    <tr>\n",
       "      <th>1</th>\n",
       "      <td>59</td>\n",
       "      <td>Tana Jones</td>\n",
       "      <td>Legal</td>\n",
       "      <td>ENA Legal</td>\n",
       "      <td>Specialist Legal</td>\n",
       "      <td>Female</td>\n",
       "      <td>Junior</td>\n",
       "      <td>1379</td>\n",
       "    </tr>\n",
       "    <tr>\n",
       "      <th>2</th>\n",
       "      <td>120</td>\n",
       "      <td>Sara Shackleton</td>\n",
       "      <td>Legal</td>\n",
       "      <td>ENA Legal</td>\n",
       "      <td>Gen Cnsl Asst</td>\n",
       "      <td>Female</td>\n",
       "      <td>Junior</td>\n",
       "      <td>1142</td>\n",
       "    </tr>\n",
       "    <tr>\n",
       "      <th>3</th>\n",
       "      <td>131</td>\n",
       "      <td>James D. Steffes</td>\n",
       "      <td>Legal</td>\n",
       "      <td>Regulatory and Government Affairs</td>\n",
       "      <td>VP of Government Affairs</td>\n",
       "      <td>Male</td>\n",
       "      <td>Senior</td>\n",
       "      <td>859</td>\n",
       "    </tr>\n",
       "    <tr>\n",
       "      <th>4</th>\n",
       "      <td>138</td>\n",
       "      <td>Mark E. Taylor</td>\n",
       "      <td>Legal</td>\n",
       "      <td>ENA Legal</td>\n",
       "      <td>VP &amp; Gen Cnsl</td>\n",
       "      <td>Male</td>\n",
       "      <td>Senior</td>\n",
       "      <td>658</td>\n",
       "    </tr>\n",
       "  </tbody>\n",
       "</table>\n",
       "</div>"
      ],
      "text/plain": [
       "   eid              name department                     longdepartment  \\\n",
       "0   20     Jeff Dasovich      Legal  Regulatory and Government Affairs   \n",
       "1   59        Tana Jones      Legal                          ENA Legal   \n",
       "2  120   Sara Shackleton      Legal                          ENA Legal   \n",
       "3  131  James D. Steffes      Legal  Regulatory and Government Affairs   \n",
       "4  138    Mark E. Taylor      Legal                          ENA Legal   \n",
       "\n",
       "                      title  gender seniority  msgs_sent  \n",
       "0                  Director    Male    Senior       1597  \n",
       "1          Specialist Legal  Female    Junior       1379  \n",
       "2             Gen Cnsl Asst  Female    Junior       1142  \n",
       "3  VP of Government Affairs    Male    Senior        859  \n",
       "4             VP & Gen Cnsl    Male    Senior        658  "
      ]
     },
     "execution_count": 27,
     "metadata": {},
     "output_type": "execute_result"
    }
   ],
   "source": [
    "pd.merge(employees, top5senders, on='eid')"
   ]
  },
  {
   "cell_type": "code",
   "execution_count": null,
   "metadata": {},
   "outputs": [],
   "source": []
  }
 ],
 "metadata": {
  "kernelspec": {
   "display_name": "Python 3",
   "language": "python",
   "name": "python3"
  },
  "language_info": {
   "codemirror_mode": {
    "name": "ipython",
    "version": 3
   },
   "file_extension": ".py",
   "mimetype": "text/x-python",
   "name": "python",
   "nbconvert_exporter": "python",
   "pygments_lexer": "ipython3",
   "version": "3.6.5"
  }
 },
 "nbformat": 4,
 "nbformat_minor": 1
}
